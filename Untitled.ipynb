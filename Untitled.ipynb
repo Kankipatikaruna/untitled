{
 "cells": [
  {
   "cell_type": "code",
   "execution_count": 87,
   "id": "98ea9b61",
   "metadata": {},
   "outputs": [],
   "source": [
    "from proxycrawl import CrawlingAPI, ScraperAPI, LeadsAPI, ScreenshotsAPI, StorageAPI\n"
   ]
  },
  {
   "cell_type": "code",
   "execution_count": 88,
   "id": "9644f3ec",
   "metadata": {},
   "outputs": [],
   "source": [
    "api = CrawlingAPI({ 'token': 'UrxFELzNzFo3xf7qJQa8yA' })"
   ]
  },
  {
   "cell_type": "code",
   "execution_count": 89,
   "id": "2befe56a",
   "metadata": {},
   "outputs": [],
   "source": [
    "scraper_api = ScraperAPI({ 'token': 'UrxFELzNzFo3xf7qJQa8yA' })\n",
    "\n",
    "# response = scraper_api.get('https://www.amazon.com/DualSense-Wireless-Controller-PlayStation-5/dp/B08FC6C75Y/')\n",
    "# if response['status_code'] == 200:\n",
    "#     print(response['json']['name'])"
   ]
  },
  {
   "cell_type": "code",
   "execution_count": 90,
   "id": "cc9702df",
   "metadata": {},
   "outputs": [],
   "source": [
    "# response['json']['images']"
   ]
  },
  {
   "cell_type": "code",
   "execution_count": 93,
   "id": "706ba2f3",
   "metadata": {},
   "outputs": [
    {
     "data": {
      "text/plain": [
       "{'ads': [],\n",
       " 'peopleAlsoAsk': [],\n",
       " 'snackPack': {'mapLink': None, 'moreLocationsLink': None, 'results': []},\n",
       " 'searchResults': [{'position': 1,\n",
       "   'title': 'Kaushik Dhulipala - Numel Solutions (COE) - LinkedInNumel Solutions Careers and Current Employee Profiles',\n",
       "   'postDate': None,\n",
       "   'url': 'https://in.linkedin.com/in/kaushikdhulipala',\n",
       "   'destination': 'https://in.linkedin.com › kaushikdhulipalahttps://in.linkedin.com › kaushikdhulipalahttps://in.linkedin.com › company › numelhttps://in.linkedin.com › company › numel',\n",
       "   'description': \"Hyderabad, Telangana, India · Director & Co-Founder · Numel Solutions (COE)Kaushik Dhulipala · Director & Co-Founder (Numel Solutions Private Limited) - ERP, IoT, Industry 4.0, AI/ML, Robotics, Hovercraft Technology/EV, Automation.Numel Solutions | 220 followers on LinkedIn. Developing Technology for a ... Employees at Numel Solutions ... Click here to view Kaushik Dhulipala's profile ...\"},\n",
       "  {'position': 2,\n",
       "   'title': 'Kaushik Dhulipala - Numel Solutions (COE) - LinkedIn',\n",
       "   'postDate': None,\n",
       "   'url': 'https://in.linkedin.com/in/kaushikdhulipala',\n",
       "   'destination': 'https://in.linkedin.com › kaushikdhulipalahttps://in.linkedin.com › kaushikdhulipala',\n",
       "   'description': 'Hyderabad, Telangana, India · Director & Co-Founder · Numel Solutions (COE)Kaushik Dhulipala · Director & Co-Founder (Numel Solutions Private Limited) - ERP, IoT, Industry 4.0, AI/ML, Robotics, Hovercraft Technology/EV, Automation.'},\n",
       "  {'position': 3,\n",
       "   'title': 'Numel Solutions Careers and Current Employee Profiles',\n",
       "   'postDate': None,\n",
       "   'url': 'https://in.linkedin.com/company/numel',\n",
       "   'destination': 'https://in.linkedin.com › company › numelhttps://in.linkedin.com › company › numel',\n",
       "   'description': \"Numel Solutions | 220 followers on LinkedIn. Developing Technology for a ... Employees at Numel Solutions ... Click here to view Kaushik Dhulipala's profile ...\"},\n",
       "  {'position': 4,\n",
       "   'title': 'numel solutions private limited, telangana - Company Details',\n",
       "   'postDate': None,\n",
       "   'url': 'https://www.companydetails.in/company/numel-solutions-private-limited',\n",
       "   'destination': 'https://www.companydetails.in › company › numel-sol...https://www.companydetails.in › company › numel-sol...',\n",
       "   'description': 'Directors of Numel Solutions Private Limited are kalyan Vurukuti, Pradeep Chandra Behara, Kaushik Sai Dhulipala Venkata. The registered Email address of ...'},\n",
       "  {'position': 5,\n",
       "   'title': 'Numel Solutions Private Limited - Zauba Corp',\n",
       "   'postDate': None,\n",
       "   'url': 'https://www.zaubacorp.com/company/NUMEL-SOLUTIONS-PRIVATE-LIMITED/U72900TG2020PTC140326',\n",
       "   'destination': 'https://www.zaubacorp.com › company › NUMEL-SOLU...https://www.zaubacorp.com › company › NUMEL-SOLU...',\n",
       "   'description': 'Directors of Numel Solutions Private Limited are Pradeep Chandra Behara, Kaushik Sai Dhulipala Venkata and Kalyan Vurukuti. Numel Solutions Private ...'},\n",
       "  {'position': 6,\n",
       "   'title': 'KAUSHIK DHULIPALA | CIO @Numel Solutions | F6S Profile',\n",
       "   'postDate': None,\n",
       "   'url': 'https://www.f6s.com/kaushikdhulipala',\n",
       "   'destination': 'https://www.f6s.com › kaushikdhulipalahttps://www.f6s.com › kaushikdhulipala',\n",
       "   'description': 'Certified Scrum Product Owner, Entrepreneur & Agile Business Analyst with 10+ years of experience I have worked on many high level projects which dealt with ...'},\n",
       "  {'position': 7,\n",
       "   'title': 'Directors - NUMEL SOLUTIONS PRIVATE LIMITED - Tofler',\n",
       "   'postDate': None,\n",
       "   'url': 'https://www.tofler.in/numel-solutions-private-limited/company/U72900TG2020PTC140326',\n",
       "   'destination': 'https://www.tofler.in › ... › Computer Related Serviceshttps://www.tofler.in › ... › Computer Related Services',\n",
       "   'description': 'Check Numel Solutions Private Limited registration details online. ... Chandra Behara and Kaushik Sai Dhulipala Venkata who were appointed on 15 May, 2020.'},\n",
       "  {'position': 8,\n",
       "   'title': \"Kaushik Dhulipala's email & phone | Numel Solutions's ...\",\n",
       "   'postDate': None,\n",
       "   'url': 'https://rocketreach.co/kaushik-dhulipala-email_168261406',\n",
       "   'destination': 'https://rocketreach.co › kaushik-dhulipala-email_16826...https://rocketreach.co › kaushik-dhulipala-email_16826...',\n",
       "   'description': \"Kaushik Dhulipala's email address d******@gmail.com | Show email & phone number >>> ... Kaushik Dhulipala's email. Director and Co-Founder @ Numel Solutions ...\"},\n",
       "  {'position': 9,\n",
       "   'title': 'Numel Solutions Private Limited Reviews - ZenSuggest',\n",
       "   'postDate': None,\n",
       "   'url': 'https://www.zensuggest.com/numel-solutions',\n",
       "   'destination': 'https://www.zensuggest.com › numel-solutionshttps://www.zensuggest.com › numel-solutions',\n",
       "   'description': 'Numel Solutions Private Limited has 3 appointed directors/decision makers Pradeep Chandra Behara, Kaushik Sai Dhulipala Venkata and Kalyan Vurukuti.'},\n",
       "  {'position': 10,\n",
       "   'title': 'numel solutions private limited - 99 Corporates',\n",
       "   'postDate': None,\n",
       "   'url': 'https://www.99corporates.com/Company-Overview/NUMEL-SOLUTIONS-PRIVATE-LIMITED/CIN/U72900TG2020PTC140326',\n",
       "   'destination': 'https://www.99corporates.com › CINhttps://www.99corporates.com › CIN',\n",
       "   'description': 'Directors of NUMEL SOLUTIONS PRIVATE LIMITED are KALYAN VURUKUTI, PRADEEP CHANDRA BEHARA and KAUSHIK SAI DHULIPALA VENKATA. Rating: 5 · \\u200e1 review'},\n",
       "  {'position': 11,\n",
       "   'title': 'Numel Solutions Pvt. Ltd. Company - Fliar BI',\n",
       "   'postDate': None,\n",
       "   'url': 'https://fliarbi.com/legalities/numel-solutions-private-limited/u72900tg2020ptc140326/',\n",
       "   'destination': 'https://fliarbi.com › numel-solutions-private-limitedhttps://fliarbi.com › numel-solutions-private-limited',\n",
       "   'description': '15-May-2020 — Numel Solutions Private Limited Hyderabad, Telangana detailed registration ... KAUSHIK SAI DHULIPALA VENKATA, 15-05-2020, 8742423 ...'}],\n",
       " 'relatedSearches': [],\n",
       " 'numberOfResults': 186}"
      ]
     },
     "execution_count": 93,
     "metadata": {},
     "output_type": "execute_result"
    }
   ],
   "source": [
    "response = scraper_api.get('https://www.google.com/search?q=kaushik+dhulipala+numel+solution/')\n",
    "response['json']"
   ]
  },
  {
   "cell_type": "code",
   "execution_count": 94,
   "id": "884d77f0",
   "metadata": {},
   "outputs": [
    {
     "data": {
      "text/plain": [
       "dict_keys(['ads', 'peopleAlsoAsk', 'snackPack', 'searchResults', 'relatedSearches', 'numberOfResults'])"
      ]
     },
     "execution_count": 94,
     "metadata": {},
     "output_type": "execute_result"
    }
   ],
   "source": [
    "response['json'].keys()"
   ]
  },
  {
   "cell_type": "code",
   "execution_count": 95,
   "id": "cd27dcc1",
   "metadata": {},
   "outputs": [
    {
     "data": {
      "text/plain": [
       "dict_values([[], [], {'mapLink': None, 'moreLocationsLink': None, 'results': []}, [{'position': 1, 'title': 'Kaushik Dhulipala - Numel Solutions (COE) - LinkedInNumel Solutions Careers and Current Employee Profiles', 'postDate': None, 'url': 'https://in.linkedin.com/in/kaushikdhulipala', 'destination': 'https://in.linkedin.com › kaushikdhulipalahttps://in.linkedin.com › kaushikdhulipalahttps://in.linkedin.com › company › numelhttps://in.linkedin.com › company › numel', 'description': \"Hyderabad, Telangana, India · Director & Co-Founder · Numel Solutions (COE)Kaushik Dhulipala · Director & Co-Founder (Numel Solutions Private Limited) - ERP, IoT, Industry 4.0, AI/ML, Robotics, Hovercraft Technology/EV, Automation.Numel Solutions | 220 followers on LinkedIn. Developing Technology for a ... Employees at Numel Solutions ... Click here to view Kaushik Dhulipala's profile ...\"}, {'position': 2, 'title': 'Kaushik Dhulipala - Numel Solutions (COE) - LinkedIn', 'postDate': None, 'url': 'https://in.linkedin.com/in/kaushikdhulipala', 'destination': 'https://in.linkedin.com › kaushikdhulipalahttps://in.linkedin.com › kaushikdhulipala', 'description': 'Hyderabad, Telangana, India · Director & Co-Founder · Numel Solutions (COE)Kaushik Dhulipala · Director & Co-Founder (Numel Solutions Private Limited) - ERP, IoT, Industry 4.0, AI/ML, Robotics, Hovercraft Technology/EV, Automation.'}, {'position': 3, 'title': 'Numel Solutions Careers and Current Employee Profiles', 'postDate': None, 'url': 'https://in.linkedin.com/company/numel', 'destination': 'https://in.linkedin.com › company › numelhttps://in.linkedin.com › company › numel', 'description': \"Numel Solutions | 220 followers on LinkedIn. Developing Technology for a ... Employees at Numel Solutions ... Click here to view Kaushik Dhulipala's profile ...\"}, {'position': 4, 'title': 'numel solutions private limited, telangana - Company Details', 'postDate': None, 'url': 'https://www.companydetails.in/company/numel-solutions-private-limited', 'destination': 'https://www.companydetails.in › company › numel-sol...https://www.companydetails.in › company › numel-sol...', 'description': 'Directors of Numel Solutions Private Limited are kalyan Vurukuti, Pradeep Chandra Behara, Kaushik Sai Dhulipala Venkata. The registered Email address of ...'}, {'position': 5, 'title': 'Numel Solutions Private Limited - Zauba Corp', 'postDate': None, 'url': 'https://www.zaubacorp.com/company/NUMEL-SOLUTIONS-PRIVATE-LIMITED/U72900TG2020PTC140326', 'destination': 'https://www.zaubacorp.com › company › NUMEL-SOLU...https://www.zaubacorp.com › company › NUMEL-SOLU...', 'description': 'Directors of Numel Solutions Private Limited are Pradeep Chandra Behara, Kaushik Sai Dhulipala Venkata and Kalyan Vurukuti. Numel Solutions Private ...'}, {'position': 6, 'title': 'KAUSHIK DHULIPALA | CIO @Numel Solutions | F6S Profile', 'postDate': None, 'url': 'https://www.f6s.com/kaushikdhulipala', 'destination': 'https://www.f6s.com › kaushikdhulipalahttps://www.f6s.com › kaushikdhulipala', 'description': 'Certified Scrum Product Owner, Entrepreneur & Agile Business Analyst with 10+ years of experience I have worked on many high level projects which dealt with ...'}, {'position': 7, 'title': 'Directors - NUMEL SOLUTIONS PRIVATE LIMITED - Tofler', 'postDate': None, 'url': 'https://www.tofler.in/numel-solutions-private-limited/company/U72900TG2020PTC140326', 'destination': 'https://www.tofler.in › ... › Computer Related Serviceshttps://www.tofler.in › ... › Computer Related Services', 'description': 'Check Numel Solutions Private Limited registration details online. ... Chandra Behara and Kaushik Sai Dhulipala Venkata who were appointed on 15 May, 2020.'}, {'position': 8, 'title': \"Kaushik Dhulipala's email & phone | Numel Solutions's ...\", 'postDate': None, 'url': 'https://rocketreach.co/kaushik-dhulipala-email_168261406', 'destination': 'https://rocketreach.co › kaushik-dhulipala-email_16826...https://rocketreach.co › kaushik-dhulipala-email_16826...', 'description': \"Kaushik Dhulipala's email address d******@gmail.com | Show email & phone number >>> ... Kaushik Dhulipala's email. Director and Co-Founder @ Numel Solutions ...\"}, {'position': 9, 'title': 'Numel Solutions Private Limited Reviews - ZenSuggest', 'postDate': None, 'url': 'https://www.zensuggest.com/numel-solutions', 'destination': 'https://www.zensuggest.com › numel-solutionshttps://www.zensuggest.com › numel-solutions', 'description': 'Numel Solutions Private Limited has 3 appointed directors/decision makers Pradeep Chandra Behara, Kaushik Sai Dhulipala Venkata and Kalyan Vurukuti.'}, {'position': 10, 'title': 'numel solutions private limited - 99 Corporates', 'postDate': None, 'url': 'https://www.99corporates.com/Company-Overview/NUMEL-SOLUTIONS-PRIVATE-LIMITED/CIN/U72900TG2020PTC140326', 'destination': 'https://www.99corporates.com › CINhttps://www.99corporates.com › CIN', 'description': 'Directors of NUMEL SOLUTIONS PRIVATE LIMITED are KALYAN VURUKUTI, PRADEEP CHANDRA BEHARA and KAUSHIK SAI DHULIPALA VENKATA. Rating: 5 · \\u200e1 review'}, {'position': 11, 'title': 'Numel Solutions Pvt. Ltd. Company - Fliar BI', 'postDate': None, 'url': 'https://fliarbi.com/legalities/numel-solutions-private-limited/u72900tg2020ptc140326/', 'destination': 'https://fliarbi.com › numel-solutions-private-limitedhttps://fliarbi.com › numel-solutions-private-limited', 'description': '15-May-2020 — Numel Solutions Private Limited Hyderabad, Telangana detailed registration ... KAUSHIK SAI DHULIPALA VENKATA, 15-05-2020, 8742423 ...'}], [], 186])"
      ]
     },
     "execution_count": 95,
     "metadata": {},
     "output_type": "execute_result"
    }
   ],
   "source": [
    "response['json'].values()"
   ]
  },
  {
   "cell_type": "code",
   "execution_count": 98,
   "id": "abd24536",
   "metadata": {},
   "outputs": [
    {
     "data": {
      "text/plain": [
       "{'mapLink': None, 'moreLocationsLink': None, 'results': []}"
      ]
     },
     "execution_count": 98,
     "metadata": {},
     "output_type": "execute_result"
    }
   ],
   "source": [
    "response['json']['snackPack']"
   ]
  },
  {
   "cell_type": "code",
   "execution_count": 101,
   "id": "968605ee",
   "metadata": {},
   "outputs": [
    {
     "data": {
      "text/plain": [
       "[{'position': 1,\n",
       "  'title': 'Kaushik Dhulipala - Numel Solutions (COE) - LinkedInNumel Solutions Careers and Current Employee Profiles',\n",
       "  'postDate': None,\n",
       "  'url': 'https://in.linkedin.com/in/kaushikdhulipala',\n",
       "  'destination': 'https://in.linkedin.com › kaushikdhulipalahttps://in.linkedin.com › kaushikdhulipalahttps://in.linkedin.com › company › numelhttps://in.linkedin.com › company › numel',\n",
       "  'description': \"Hyderabad, Telangana, India · Director & Co-Founder · Numel Solutions (COE)Kaushik Dhulipala · Director & Co-Founder (Numel Solutions Private Limited) - ERP, IoT, Industry 4.0, AI/ML, Robotics, Hovercraft Technology/EV, Automation.Numel Solutions | 220 followers on LinkedIn. Developing Technology for a ... Employees at Numel Solutions ... Click here to view Kaushik Dhulipala's profile ...\"},\n",
       " {'position': 2,\n",
       "  'title': 'Kaushik Dhulipala - Numel Solutions (COE) - LinkedIn',\n",
       "  'postDate': None,\n",
       "  'url': 'https://in.linkedin.com/in/kaushikdhulipala',\n",
       "  'destination': 'https://in.linkedin.com › kaushikdhulipalahttps://in.linkedin.com › kaushikdhulipala',\n",
       "  'description': 'Hyderabad, Telangana, India · Director & Co-Founder · Numel Solutions (COE)Kaushik Dhulipala · Director & Co-Founder (Numel Solutions Private Limited) - ERP, IoT, Industry 4.0, AI/ML, Robotics, Hovercraft Technology/EV, Automation.'},\n",
       " {'position': 3,\n",
       "  'title': 'Numel Solutions Careers and Current Employee Profiles',\n",
       "  'postDate': None,\n",
       "  'url': 'https://in.linkedin.com/company/numel',\n",
       "  'destination': 'https://in.linkedin.com › company › numelhttps://in.linkedin.com › company › numel',\n",
       "  'description': \"Numel Solutions | 220 followers on LinkedIn. Developing Technology for a ... Employees at Numel Solutions ... Click here to view Kaushik Dhulipala's profile ...\"},\n",
       " {'position': 4,\n",
       "  'title': 'numel solutions private limited, telangana - Company Details',\n",
       "  'postDate': None,\n",
       "  'url': 'https://www.companydetails.in/company/numel-solutions-private-limited',\n",
       "  'destination': 'https://www.companydetails.in › company › numel-sol...https://www.companydetails.in › company › numel-sol...',\n",
       "  'description': 'Directors of Numel Solutions Private Limited are kalyan Vurukuti, Pradeep Chandra Behara, Kaushik Sai Dhulipala Venkata. The registered Email address of ...'},\n",
       " {'position': 5,\n",
       "  'title': 'Numel Solutions Private Limited - Zauba Corp',\n",
       "  'postDate': None,\n",
       "  'url': 'https://www.zaubacorp.com/company/NUMEL-SOLUTIONS-PRIVATE-LIMITED/U72900TG2020PTC140326',\n",
       "  'destination': 'https://www.zaubacorp.com › company › NUMEL-SOLU...https://www.zaubacorp.com › company › NUMEL-SOLU...',\n",
       "  'description': 'Directors of Numel Solutions Private Limited are Pradeep Chandra Behara, Kaushik Sai Dhulipala Venkata and Kalyan Vurukuti. Numel Solutions Private ...'},\n",
       " {'position': 6,\n",
       "  'title': 'KAUSHIK DHULIPALA | CIO @Numel Solutions | F6S Profile',\n",
       "  'postDate': None,\n",
       "  'url': 'https://www.f6s.com/kaushikdhulipala',\n",
       "  'destination': 'https://www.f6s.com › kaushikdhulipalahttps://www.f6s.com › kaushikdhulipala',\n",
       "  'description': 'Certified Scrum Product Owner, Entrepreneur & Agile Business Analyst with 10+ years of experience I have worked on many high level projects which dealt with ...'},\n",
       " {'position': 7,\n",
       "  'title': 'Directors - NUMEL SOLUTIONS PRIVATE LIMITED - Tofler',\n",
       "  'postDate': None,\n",
       "  'url': 'https://www.tofler.in/numel-solutions-private-limited/company/U72900TG2020PTC140326',\n",
       "  'destination': 'https://www.tofler.in › ... › Computer Related Serviceshttps://www.tofler.in › ... › Computer Related Services',\n",
       "  'description': 'Check Numel Solutions Private Limited registration details online. ... Chandra Behara and Kaushik Sai Dhulipala Venkata who were appointed on 15 May, 2020.'},\n",
       " {'position': 8,\n",
       "  'title': \"Kaushik Dhulipala's email & phone | Numel Solutions's ...\",\n",
       "  'postDate': None,\n",
       "  'url': 'https://rocketreach.co/kaushik-dhulipala-email_168261406',\n",
       "  'destination': 'https://rocketreach.co › kaushik-dhulipala-email_16826...https://rocketreach.co › kaushik-dhulipala-email_16826...',\n",
       "  'description': \"Kaushik Dhulipala's email address d******@gmail.com | Show email & phone number >>> ... Kaushik Dhulipala's email. Director and Co-Founder @ Numel Solutions ...\"},\n",
       " {'position': 9,\n",
       "  'title': 'Numel Solutions Private Limited Reviews - ZenSuggest',\n",
       "  'postDate': None,\n",
       "  'url': 'https://www.zensuggest.com/numel-solutions',\n",
       "  'destination': 'https://www.zensuggest.com › numel-solutionshttps://www.zensuggest.com › numel-solutions',\n",
       "  'description': 'Numel Solutions Private Limited has 3 appointed directors/decision makers Pradeep Chandra Behara, Kaushik Sai Dhulipala Venkata and Kalyan Vurukuti.'},\n",
       " {'position': 10,\n",
       "  'title': 'numel solutions private limited - 99 Corporates',\n",
       "  'postDate': None,\n",
       "  'url': 'https://www.99corporates.com/Company-Overview/NUMEL-SOLUTIONS-PRIVATE-LIMITED/CIN/U72900TG2020PTC140326',\n",
       "  'destination': 'https://www.99corporates.com › CINhttps://www.99corporates.com › CIN',\n",
       "  'description': 'Directors of NUMEL SOLUTIONS PRIVATE LIMITED are KALYAN VURUKUTI, PRADEEP CHANDRA BEHARA and KAUSHIK SAI DHULIPALA VENKATA. Rating: 5 · \\u200e1 review'},\n",
       " {'position': 11,\n",
       "  'title': 'Numel Solutions Pvt. Ltd. Company - Fliar BI',\n",
       "  'postDate': None,\n",
       "  'url': 'https://fliarbi.com/legalities/numel-solutions-private-limited/u72900tg2020ptc140326/',\n",
       "  'destination': 'https://fliarbi.com › numel-solutions-private-limitedhttps://fliarbi.com › numel-solutions-private-limited',\n",
       "  'description': '15-May-2020 — Numel Solutions Private Limited Hyderabad, Telangana detailed registration ... KAUSHIK SAI DHULIPALA VENKATA, 15-05-2020, 8742423 ...'}]"
      ]
     },
     "execution_count": 101,
     "metadata": {},
     "output_type": "execute_result"
    }
   ],
   "source": [
    "response['json']['searchResults']"
   ]
  },
  {
   "cell_type": "code",
   "execution_count": 103,
   "id": "a75694d3",
   "metadata": {},
   "outputs": [
    {
     "data": {
      "text/plain": [
       "186"
      ]
     },
     "execution_count": 103,
     "metadata": {},
     "output_type": "execute_result"
    }
   ],
   "source": [
    "response['json']['numberOfResults']"
   ]
  },
  {
   "cell_type": "code",
   "execution_count": null,
   "id": "97cc4870",
   "metadata": {},
   "outputs": [],
   "source": []
  }
 ],
 "metadata": {
  "kernelspec": {
   "display_name": "Python 3",
   "language": "python",
   "name": "python3"
  }
 },
 "nbformat": 4,
 "nbformat_minor": 5
}
